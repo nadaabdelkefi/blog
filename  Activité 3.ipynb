{
  "nbformat": 4,
  "nbformat_minor": 0,
  "metadata": {
    "colab": {
      "name": "Untitled3.ipynb",
      "provenance": [],
      "collapsed_sections": [],
      "authorship_tag": "ABX9TyPrer1gSXCIUiAlSoWPnGjQ",
      "include_colab_link": true
    },
    "kernelspec": {
      "name": "python3",
      "display_name": "Python 3"
    }
  },
  "cells": [
    {
      "cell_type": "markdown",
      "metadata": {
        "id": "view-in-github",
        "colab_type": "text"
      },
      "source": [
        "<a href=\"https://colab.research.google.com/github/nadaabdelkefi/blog/blob/master/%20Activit%C3%A9%203.ipynb\" target=\"_parent\"><img src=\"https://colab.research.google.com/assets/colab-badge.svg\" alt=\"Open In Colab\"/></a>"
      ]
    },
    {
      "cell_type": "code",
      "metadata": {
        "id": "mdOo4dQ_SGnL",
        "colab_type": "code",
        "colab": {
          "base_uri": "https://localhost:8080/",
          "height": 35
        },
        "outputId": "a6d25891-d99b-4c9f-bccc-7e50fc5ffaf6"
      },
      "source": [
        "pwd"
      ],
      "execution_count": 1,
      "outputs": [
        {
          "output_type": "execute_result",
          "data": {
            "application/vnd.google.colaboratory.intrinsic": {
              "type": "string"
            },
            "text/plain": [
              "'/content'"
            ]
          },
          "metadata": {
            "tags": []
          },
          "execution_count": 1
        }
      ]
    },
    {
      "cell_type": "code",
      "metadata": {
        "id": "uVQYOFMARvVj",
        "colab_type": "code",
        "colab": {
          "base_uri": "https://localhost:8080/",
          "height": 34
        },
        "outputId": "a11606bb-bd72-44a3-94ef-7d3ae1fb6594"
      },
      "source": [
        "import csv\n",
        "import numpy as np\n",
        "data_set = []\n",
        "\n",
        "\n",
        "with open('/content/data_test.csv') as csvDataFile:\n",
        "    csvReader = csv.reader(csvDataFile)\n",
        "    for row in csvReader:\n",
        "        data_set.append(row)\n",
        "\n",
        "print(data_set)"
      ],
      "execution_count": 5,
      "outputs": [
        {
          "output_type": "stream",
          "text": [
            "[['1;2;3;4;5'], ['6;7;8;9;10'], ['1;3;3;4;6']]\n"
          ],
          "name": "stdout"
        }
      ]
    },
    {
      "cell_type": "markdown",
      "metadata": {
        "id": "8clTxFFQYWDJ",
        "colab_type": "text"
      },
      "source": [
        "# **Afficher le type de \"data_set\"**"
      ]
    },
    {
      "cell_type": "code",
      "metadata": {
        "id": "10cxjAGgSZuO",
        "colab_type": "code",
        "colab": {
          "base_uri": "https://localhost:8080/",
          "height": 34
        },
        "outputId": "eb4a8703-cce7-474a-e407-5f7d0356e2d7"
      },
      "source": [
        "# **Afficher le type de \"data_set\"**\n",
        "type(data_set)"
      ],
      "execution_count": 14,
      "outputs": [
        {
          "output_type": "execute_result",
          "data": {
            "text/plain": [
              "list"
            ]
          },
          "metadata": {
            "tags": []
          },
          "execution_count": 14
        }
      ]
    },
    {
      "cell_type": "markdown",
      "metadata": {
        "id": "W6HoVIhqYrm9",
        "colab_type": "text"
      },
      "source": [
        "##  Afficher la dimension et la  taille de \"data_set\""
      ]
    },
    {
      "cell_type": "code",
      "metadata": {
        "id": "oWTEbsv7VWNF",
        "colab_type": "code",
        "colab": {
          "base_uri": "https://localhost:8080/",
          "height": 34
        },
        "outputId": "a6baf7e3-c525-48e8-f12c-3880ffbf20e4"
      },
      "source": [
        "# **Afficher la dimension et la  taille de \"data_set\"**\n",
        "np.size(data_set)\n"
      ],
      "execution_count": 9,
      "outputs": [
        {
          "output_type": "execute_result",
          "data": {
            "text/plain": [
              "3"
            ]
          },
          "metadata": {
            "tags": []
          },
          "execution_count": 9
        }
      ]
    },
    {
      "cell_type": "code",
      "metadata": {
        "id": "x5c4c3_XWF3j",
        "colab_type": "code",
        "colab": {
          "base_uri": "https://localhost:8080/",
          "height": 34
        },
        "outputId": "8dfb7be6-55f5-409c-b0ad-bbfce4ea4f76"
      },
      "source": [
        "np.shape(data_set)"
      ],
      "execution_count": 10,
      "outputs": [
        {
          "output_type": "execute_result",
          "data": {
            "text/plain": [
              "(3, 1)"
            ]
          },
          "metadata": {
            "tags": []
          },
          "execution_count": 10
        }
      ]
    },
    {
      "cell_type": "markdown",
      "metadata": {
        "id": "QJXJCSJCZG5S",
        "colab_type": "text"
      },
      "source": [
        "# **Afficher le type de données de \"data_set\"**"
      ]
    },
    {
      "cell_type": "code",
      "metadata": {
        "id": "lwmm-_6JXB4t",
        "colab_type": "code",
        "colab": {
          "base_uri": "https://localhost:8080/",
          "height": 34
        },
        "outputId": "725a26ba-7d94-492f-a6c6-adfd63f96b75"
      },
      "source": [
        "# **Afficher le type de données de \"data_set\"**\n",
        "type(data_set)"
      ],
      "execution_count": 15,
      "outputs": [
        {
          "output_type": "execute_result",
          "data": {
            "text/plain": [
              "list"
            ]
          },
          "metadata": {
            "tags": []
          },
          "execution_count": 15
        }
      ]
    },
    {
      "cell_type": "markdown",
      "metadata": {
        "id": "lovTBwZkZt8l",
        "colab_type": "text"
      },
      "source": [
        "# Transformer les données de 'data_set' en CC et afficher  \"data_set _str\""
      ]
    },
    {
      "cell_type": "code",
      "metadata": {
        "id": "J3UFhbUaXWKo",
        "colab_type": "code",
        "colab": {
          "base_uri": "https://localhost:8080/",
          "height": 34
        },
        "outputId": "debf41b0-9386-4819-ebaa-f321ba7dc3b1"
      },
      "source": [
        "# Transformer les données de 'data_set' en CC et afficher  \"data_set _str\"\n",
        "data_set_str= str(data_set)\n",
        "type(data_set_str)"
      ],
      "execution_count": 13,
      "outputs": [
        {
          "output_type": "execute_result",
          "data": {
            "text/plain": [
              "str"
            ]
          },
          "metadata": {
            "tags": []
          },
          "execution_count": 13
        }
      ]
    },
    {
      "cell_type": "code",
      "metadata": {
        "id": "33LB5roXZw98",
        "colab_type": "code",
        "colab": {
          "base_uri": "https://localhost:8080/",
          "height": 35
        },
        "outputId": "b540dacb-b1ab-471e-e403-a30efb13ee59"
      },
      "source": [
        "data_set_str"
      ],
      "execution_count": 16,
      "outputs": [
        {
          "output_type": "execute_result",
          "data": {
            "application/vnd.google.colaboratory.intrinsic": {
              "type": "string"
            },
            "text/plain": [
              "\"[['1;2;3;4;5'], ['6;7;8;9;10'], ['1;3;3;4;6']]\""
            ]
          },
          "metadata": {
            "tags": []
          },
          "execution_count": 16
        }
      ]
    }
  ]
}